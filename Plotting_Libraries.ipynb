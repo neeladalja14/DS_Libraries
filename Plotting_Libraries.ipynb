{
 "cells": [
  {
   "cell_type": "markdown",
   "id": "e687683f-3c0a-4105-ace1-d6554c9f5ba8",
   "metadata": {},
   "source": [
    "<div style=\"background-color: rgb(230, 216, 173); padding: 10px; height: 70px; border-radius: 15px;\">\n",
    "    <div style=\"font-family: 'Georgia', serif; color: black; font-size: 20px; padding: 10px; text-align: right; position: absolute; right: 50px;\">\n",
    "        Neel Adalja <br>\n",
    "        <span style=\"font-family: 'Arial', sans-serif;font-size: 12px; color: #0a0a0a;\">Data Scientist</span>\n",
    "    </div>\n",
    "</div>"
   ]
  },
  {
   "cell_type": "markdown",
   "id": "cb5a9eec-3a3d-4617-9a65-d2240e3cfb44",
   "metadata": {},
   "source": [
    "<div style=\"background-color:#FFB266; padding: 10px; text-align: center; color: black; font-size: 32px; font-family: 'Arial', sans-serif;\">\n",
    "    Matplotlib, pyplot and Seaborn Library <br>\n",
    "    <h3 style=\"text-align: center; color: black; font-size: 15px; font-family: 'Arial', sans-serif;\">Essential Tensorflow import statements for basic and advanced Data analysisi and EDA plotting tasks</h3>\n",
    "</div>"
   ]
  },
  {
   "cell_type": "markdown",
   "id": "6a3274ba-7d6a-4678-9749-f065250d9d6a",
   "metadata": {},
   "source": [
    "<div style=\"background-color: lightgreen; color: black; padding: 4px;\">\n",
    "    <h3>For Basic and Advanced Plotting Tasks:</h3>\n",
    "</div>"
   ]
  },
  {
   "cell_type": "markdown",
   "id": "b7a32a2a-901f-475c-928b-9004c24abeb2",
   "metadata": {},
   "source": [
    "#### Basic Plotting (Line, Bar, Scatter, Histogram)"
   ]
  },
  {
   "cell_type": "code",
   "execution_count": 10,
   "id": "da32c660-6a84-457e-bbb9-961c1f00c8e9",
   "metadata": {},
   "outputs": [],
   "source": [
    "import matplotlib.pyplot as plt\n",
    "import seaborn as sns"
   ]
  },
  {
   "cell_type": "markdown",
   "id": "1e496ea2-05f4-4e63-bb39-3b15a96b21da",
   "metadata": {},
   "source": [
    "- Line Plot → plt.plot(), sns.lineplot()\n",
    "- Bar Chart → plt.bar(), sns.barplot()\n",
    "- Scatter Plot → plt.scatter(), sns.scatterplot()\n",
    "- Histogram → plt.hist(), sns.histplot()"
   ]
  },
  {
   "cell_type": "markdown",
   "id": "584eec5f-cf5d-4192-bbb4-3b510a23b594",
   "metadata": {},
   "source": [
    "#### Distribution & Density Plots"
   ]
  },
  {
   "cell_type": "code",
   "execution_count": null,
   "id": "f9b16e57-3e44-4215-bee1-32eb8863a7f9",
   "metadata": {},
   "outputs": [],
   "source": [
    "from seaborn import histplot, kdeplot, distplot"
   ]
  },
  {
   "cell_type": "markdown",
   "id": "16f976d8-dedc-4355-b0a3-8af535001957",
   "metadata": {},
   "source": [
    "- Histogram → histplot()\n",
    "- Kernel Density Estimation (KDE) → kdeplot()\n",
    "- Distribution Plot (deprecated but still used) → distplot()"
   ]
  },
  {
   "cell_type": "markdown",
   "id": "4e5be191-93c6-4172-ab28-d8874ce96395",
   "metadata": {},
   "source": [
    "####  Boxplot & Violin Plot (Outlier Detection)"
   ]
  },
  {
   "cell_type": "code",
   "execution_count": null,
   "id": "bb6336c8-baa8-4b36-a322-f79983ac9942",
   "metadata": {},
   "outputs": [],
   "source": [
    "from seaborn import boxplot, violinplot"
   ]
  },
  {
   "cell_type": "markdown",
   "id": "e1e2d173-152d-448b-87f2-54ffc6dc7321",
   "metadata": {},
   "source": [
    "- Boxplot → boxplot() (for detecting outliers)\n",
    "- Violin Plot → violinplot() (combines KDE with Boxplot)"
   ]
  },
  {
   "cell_type": "markdown",
   "id": "9623458b-7fe5-4375-b01c-ec4672d74ebf",
   "metadata": {},
   "source": [
    "#### Pairwise Relationships & Correlation"
   ]
  },
  {
   "cell_type": "code",
   "execution_count": null,
   "id": "3c5080bd-4fd4-4d2f-adaa-c3c4a9372d11",
   "metadata": {},
   "outputs": [],
   "source": [
    "from seaborn import pairplot, heatmap"
   ]
  },
  {
   "cell_type": "markdown",
   "id": "d7740267-afe1-41bd-965d-ece0d5adca33",
   "metadata": {},
   "source": [
    "- Pair Plot → pairplot() (scatter plots for multiple variable pairs)\n",
    "- Heatmap → heatmap() (for correlation matrices)"
   ]
  },
  {
   "cell_type": "markdown",
   "id": "a0df6a68-eb53-469a-8f0c-87e3a2e59731",
   "metadata": {},
   "source": [
    "#### Time Series & Trend Analysis"
   ]
  },
  {
   "cell_type": "code",
   "execution_count": null,
   "id": "e36e484b-968b-49f0-8431-b53a478e0524",
   "metadata": {},
   "outputs": [],
   "source": [
    "from seaborn import lineplot, relplot"
   ]
  },
  {
   "cell_type": "markdown",
   "id": "00e7d534-b255-467c-a310-84085439beb4",
   "metadata": {},
   "source": [
    "- Line Plot → lineplot() (for trends over time)\n",
    "- Relational Plot → relplot() (for multiple time series data)"
   ]
  },
  {
   "cell_type": "markdown",
   "id": "ad381a5d-83bd-47dd-aee0-798a09f26b05",
   "metadata": {},
   "source": [
    "#### Categorical Data Visualization"
   ]
  },
  {
   "cell_type": "code",
   "execution_count": null,
   "id": "8a982cea-71d8-4400-9ccd-e64cf4439d8e",
   "metadata": {},
   "outputs": [],
   "source": [
    "from seaborn import countplot, barplot, catplot"
   ]
  },
  {
   "cell_type": "markdown",
   "id": "a2bdcf63-a6ea-4934-be59-3589e36bafe2",
   "metadata": {},
   "source": [
    "- Count Plot → countplot() (for categorical data frequency)\n",
    "- Categorical Plot → catplot() (for multiple categorical relationships)"
   ]
  },
  {
   "cell_type": "markdown",
   "id": "6d28bdbe-e18d-4b20-bbb1-1a20432593c1",
   "metadata": {},
   "source": [
    "#### Advanced Customization & 3D Plotting"
   ]
  },
  {
   "cell_type": "code",
   "execution_count": null,
   "id": "285e6560-5770-462e-b819-bc75180ca339",
   "metadata": {},
   "outputs": [],
   "source": [
    "from matplotlib import cm\n",
    "from matplotlib.ticker import FuncFormatter\n",
    "from mpl_toolkits.mplot3d import Axes3D  # For 3D visualizations"
   ]
  },
  {
   "cell_type": "markdown",
   "id": "96f1e882-083d-41de-afa1-795448121ac4",
   "metadata": {},
   "source": [
    "- 3D Scatter & Surface Plot → Axes3D()\n",
    "- Colormaps → cm.get_cmap()\n",
    "- Custom Axis Format → FuncFormatter()"
   ]
  },
  {
   "cell_type": "markdown",
   "id": "1de46a50-72ac-4c59-896c-6965a6c56347",
   "metadata": {},
   "source": [
    "<div style=\"\n",
    "    position: fixed; \n",
    "    bottom: 10px; \n",
    "    right: 10px;  /* Positioned on the right side */\n",
    "    width: 200px; \n",
    "    background-color: #4CAF50; \n",
    "    padding: 10px; \n",
    "    text-align: center; \n",
    "    color: white; \n",
    "    font-size: 14px; \n",
    "    font-family: 'Arial', sans-serif; \n",
    "    border-radius: 10px;\n",
    "    box-shadow: 2px 2px 5px rgba(0, 0, 0, 0.2);\n",
    "\">\n",
    "    <p style=\"margin: 5px 0;\">📌 Created by: <b>Neel Adalja</b></p>\n",
    "    <p style=\"margin: 5px 0;\">📅 Date: <b>Feb 2025</b></p>\n",
    "</div>\n"
   ]
  }
 ],
 "metadata": {
  "kernelspec": {
   "display_name": "python(jupenv)",
   "language": "python",
   "name": "jupenv"
  },
  "language_info": {
   "codemirror_mode": {
    "name": "ipython",
    "version": 3
   },
   "file_extension": ".py",
   "mimetype": "text/x-python",
   "name": "python",
   "nbconvert_exporter": "python",
   "pygments_lexer": "ipython3",
   "version": "3.12.3"
  }
 },
 "nbformat": 4,
 "nbformat_minor": 5
}
