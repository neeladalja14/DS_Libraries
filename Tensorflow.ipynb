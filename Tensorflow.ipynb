{
 "cells": [
  {
   "cell_type": "markdown",
   "id": "f90746c8-b514-4271-a8f2-db57aa352333",
   "metadata": {},
   "source": [
    "<div style=\"background-color: rgb(230, 216, 173); padding: 10px; height: 70px; border-radius: 15px;\">\n",
    "    <div style=\"font-family: 'Georgia', serif; color: black; font-size: 20px; padding: 10px; text-align: right; position: absolute; right: 50px;\">\n",
    "        Neel Adalja <br>\n",
    "        <span style=\"font-family: 'Arial', sans-serif;font-size: 12px; color: #0a0a0a;\">Data Scientist</span>\n",
    "    </div>\n",
    "</div>"
   ]
  },
  {
   "cell_type": "markdown",
   "id": "e6c74480-7d86-4f52-8675-e2fa88b5679b",
   "metadata": {},
   "source": [
    "<div style=\"background-color:#FFB266; padding: 10px; text-align: center; color: black; font-size: 32px; font-family: 'Arial', sans-serif;\">\n",
    "    Tensorflow Library <br>\n",
    "    <h3 style=\"text-align: center; color: black; font-size: 15px; font-family: 'Arial', sans-serif;\">Essential Tensorflow import statements for basic and advanced Deep learning tasks</h3>\n",
    "</div>"
   ]
  },
  {
   "cell_type": "markdown",
   "id": "efab6723-c6a0-4c95-a4d7-e1d1bf684150",
   "metadata": {},
   "source": [
    "<div style=\"background-color: lightgreen; color: black; padding: 4px;\">\n",
    "    <h3>For Basic and Advanced Deep Learning Tasks:</h3>\n",
    "</div>"
   ]
  },
  {
   "cell_type": "markdown",
   "id": "34208cef-0b64-4864-83f9-b0f5fabd8678",
   "metadata": {},
   "source": [
    "### 1. Core TensorFlow Imports"
   ]
  },
  {
   "cell_type": "code",
   "execution_count": 13,
   "id": "ea707980-37eb-485e-b549-79ad9e8d6d94",
   "metadata": {},
   "outputs": [],
   "source": [
    "import tensorflow as tf"
   ]
  },
  {
   "cell_type": "markdown",
   "id": "6ccddee1-12ee-4a3c-a6b1-8a4907aa2d88",
   "metadata": {},
   "source": [
    "### 2. Basic TensorFlow Operations"
   ]
  },
  {
   "cell_type": "code",
   "execution_count": null,
   "id": "eb296a51-efc0-459a-a870-cf99c3b3a6f0",
   "metadata": {},
   "outputs": [],
   "source": [
    "from tensorflow import constant, Variable\n",
    "from tensorflow.math import reduce_mean, reduce_sum"
   ]
  },
  {
   "cell_type": "markdown",
   "id": "1537c165-fbce-40f0-a61d-b2eac8a8234a",
   "metadata": {},
   "source": [
    "### 3. Keras (High-Level API for TensorFlow)"
   ]
  },
  {
   "cell_type": "markdown",
   "id": "848e160d-8ece-4fe3-9ce5-0d0b0978cc55",
   "metadata": {},
   "source": [
    "#### a. Core Keras Modules"
   ]
  },
  {
   "cell_type": "code",
   "execution_count": null,
   "id": "ae733013-3aab-469c-86b2-b11b84ebe699",
   "metadata": {},
   "outputs": [],
   "source": [
    "from tensorflow import keras\n",
    "from tensorflow.keras.models import Sequential, Model\n",
    "from tensorflow.keras.layers import Dense, Flatten, Dropout, BatchNormalization, Input"
   ]
  },
  {
   "cell_type": "markdown",
   "id": "d82eea39-3b7e-4e3b-9f97-f4cfedffd079",
   "metadata": {},
   "source": [
    "#### b. Convolutional Neural Networks (CNNs)"
   ]
  },
  {
   "cell_type": "code",
   "execution_count": null,
   "id": "2d54cc3c-543f-4c42-bef8-40f338305829",
   "metadata": {},
   "outputs": [],
   "source": [
    "from tensorflow.keras.layers import Conv2D, MaxPooling2D, GlobalAveragePooling2D"
   ]
  },
  {
   "cell_type": "markdown",
   "id": "93d3872d-4028-460d-b8df-b0da85e8e35e",
   "metadata": {},
   "source": [
    "#### c. Recurrent Neural Networks (RNNs, LSTMs, GRUs)"
   ]
  },
  {
   "cell_type": "code",
   "execution_count": 22,
   "id": "04c77f19-0760-4252-be3b-a6a86c0325cc",
   "metadata": {},
   "outputs": [],
   "source": [
    "from tensorflow.keras.layers import SimpleRNN, LSTM, GRU, Bidirectional"
   ]
  },
  {
   "cell_type": "markdown",
   "id": "a7d7fcb9-77b1-4b4f-91de-7e704ba58bbc",
   "metadata": {},
   "source": [
    "#### d. Embeddings & NLP Processing"
   ]
  },
  {
   "cell_type": "code",
   "execution_count": null,
   "id": "7e9d3990-5c28-4ff2-8be8-6a919227aac6",
   "metadata": {},
   "outputs": [],
   "source": [
    "from tensorflow.keras.layers import Embedding\n",
    "from tensorflow.keras.preprocessing.text import Tokenizer\n",
    "from tensorflow.keras.preprocessing.sequence import pad_sequences"
   ]
  },
  {
   "cell_type": "markdown",
   "id": "e1fc47e7-80b8-4525-9756-bbf54cd571a6",
   "metadata": {},
   "source": [
    "#### e. Optimizers & Loss Functions"
   ]
  },
  {
   "cell_type": "code",
   "execution_count": null,
   "id": "ea7984da-43f3-4600-8c40-56ac6c900c61",
   "metadata": {},
   "outputs": [],
   "source": [
    "from tensorflow.keras.optimizers import Adam, SGD, RMSprop\n",
    "from tensorflow.keras.losses import SparseCategoricalCrossentropy, CategoricalCrossentropy, MeanSquaredError"
   ]
  },
  {
   "cell_type": "markdown",
   "id": "77a72674-58f5-4c76-a599-a32f7513e510",
   "metadata": {},
   "source": [
    "#### f. Model Evaluation Metrics"
   ]
  },
  {
   "cell_type": "code",
   "execution_count": 27,
   "id": "56a607f6-6773-4848-8737-be84f3e0617c",
   "metadata": {},
   "outputs": [],
   "source": [
    "from tensorflow.keras.metrics import Accuracy, Precision, Recall"
   ]
  },
  {
   "cell_type": "markdown",
   "id": "4fc36d49-40d6-47a1-a440-b1c747aef3d0",
   "metadata": {},
   "source": [
    "### 4. Dataset Handling & Preprocessing"
   ]
  },
  {
   "cell_type": "code",
   "execution_count": null,
   "id": "1f184636-2413-42d9-8ed5-b0c4fa59ec58",
   "metadata": {},
   "outputs": [],
   "source": [
    "from tensorflow.keras.preprocessing.image import ImageDataGenerator\n",
    "from tensorflow.data import Dataset"
   ]
  },
  {
   "cell_type": "markdown",
   "id": "54db865e-93e6-46a0-81dd-ce7f9ee587c4",
   "metadata": {},
   "source": [
    "#### 5. Callbacks for Model Training"
   ]
  },
  {
   "cell_type": "code",
   "execution_count": null,
   "id": "6d5ab606-d3fd-4ad2-925d-e1e5cdca674a",
   "metadata": {},
   "outputs": [],
   "source": [
    "from tensorflow.keras.callbacks import EarlyStopping, ModelCheckpoint, ReduceLROnPlateau, TensorBoard"
   ]
  },
  {
   "cell_type": "markdown",
   "id": "38a06ce5-c020-4d5a-ba95-445150182fb9",
   "metadata": {},
   "source": [
    "### 6. Model Saving & Loading"
   ]
  },
  {
   "cell_type": "code",
   "execution_count": null,
   "id": "fee7f098-ac4b-4717-b34c-9904540bea4c",
   "metadata": {},
   "outputs": [],
   "source": [
    "from tensorflow.keras.models import load_model"
   ]
  },
  {
   "cell_type": "markdown",
   "id": "0f398faf-f05e-44ea-b35c-c646206f4f3e",
   "metadata": {},
   "source": [
    "### 7. GPU & Performance Optimization"
   ]
  },
  {
   "cell_type": "code",
   "execution_count": null,
   "id": "824c8760-d130-497b-8890-4ed14f2511b2",
   "metadata": {},
   "outputs": [],
   "source": [
    "from tensorflow.config import list_physical_devices\n",
    "from tensorflow.keras.mixed_precision import set_global_policy"
   ]
  },
  {
   "cell_type": "markdown",
   "id": "adb57f6f-4358-4fcf-a2e3-c5a73738cfa1",
   "metadata": {},
   "source": [
    "<div style=\"\n",
    "    position: fixed; \n",
    "    bottom: 10px; \n",
    "    right: 10px;  /* Positioned on the right side */\n",
    "    width: 200px; \n",
    "    background-color: #4CAF50; \n",
    "    padding: 10px; \n",
    "    text-align: center; \n",
    "    color: white; \n",
    "    font-size: 14px; \n",
    "    font-family: 'Arial', sans-serif; \n",
    "    border-radius: 10px;\n",
    "    box-shadow: 2px 2px 5px rgba(0, 0, 0, 0.2);\n",
    "\">\n",
    "    <p style=\"margin: 5px 0;\">📌 Created by: <b>Neel Adalja</b></p>\n",
    "    <p style=\"margin: 5px 0;\">📅 Date: <b>Feb 2025</b></p>\n",
    "</div>\n"
   ]
  }
 ],
 "metadata": {
  "kernelspec": {
   "display_name": "python(jupenv)",
   "language": "python",
   "name": "jupenv"
  },
  "language_info": {
   "codemirror_mode": {
    "name": "ipython",
    "version": 3
   },
   "file_extension": ".py",
   "mimetype": "text/x-python",
   "name": "python",
   "nbconvert_exporter": "python",
   "pygments_lexer": "ipython3",
   "version": "3.12.3"
  }
 },
 "nbformat": 4,
 "nbformat_minor": 5
}
