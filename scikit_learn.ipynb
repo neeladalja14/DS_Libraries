{
 "cells": [
  {
   "cell_type": "markdown",
   "id": "198a0b81-dc7c-4118-95b2-bd2cbced19ac",
   "metadata": {},
   "source": [
    "<div style=\"background-color: rgb(230, 216, 173); padding: 10px; height: 70px; border-radius: 15px;\">\n",
    "    <div style=\"font-family: 'Georgia', serif; color: black; font-size: 20px; padding: 10px; text-align: right; position: absolute; right: 50px;\">\n",
    "        Neel Adalja <br>\n",
    "        <span style=\"font-family: 'Arial', sans-serif;font-size: 12px; color: #0a0a0a;\">Data Scientist</span>\n",
    "    </div>\n",
    "</div>"
   ]
  },
  {
   "cell_type": "markdown",
   "id": "eb1f06ec-de50-4cb5-89ad-0a1b82819ab9",
   "metadata": {},
   "source": [
    "<div style=\"background-color:#FFB266; padding: 10px; text-align: center; color: black; font-size: 32px; font-family: 'Arial', sans-serif;\">\n",
    "    Scikit Learn Library <br>\n",
    "    <h3 style=\"text-align: center; color: black; font-size: 15px; font-family: 'Arial', sans-serif;\">Essential sklearn import statements for basic and advanced machine learning tasks</h3>\n",
    "</div>\n",
    "\n"
   ]
  },
  {
   "cell_type": "markdown",
   "id": "9e69e952-9468-4db4-8f6b-19750c90da21",
   "metadata": {},
   "source": [
    "<div style=\"background-color: lightgreen; color: black; padding: 4px;\">\n",
    "    <h3>For Basic Machine Learning tasks:</h3>\n",
    "</div>"
   ]
  },
  {
   "cell_type": "markdown",
   "id": "eeac7aff-f59f-45bf-97bc-7e464aa1a06c",
   "metadata": {},
   "source": [
    "## 1. Dataset Handling & Preprocessing"
   ]
  },
  {
   "cell_type": "code",
   "execution_count": null,
   "id": "af0ec07f-3cf9-4de3-aa1a-280bd581a16d",
   "metadata": {},
   "outputs": [],
   "source": [
    "from sklearn.model_selection import train_test_split\n",
    "from sklearn.preprocessing import StandardScaler, MinMaxScaler, LabelEncoder, OneHotEncoder\n",
    "from sklearn.impute import SimpleImputer\n",
    "from sklearn.pipeline import Pipeline"
   ]
  },
  {
   "cell_type": "markdown",
   "id": "55b1323d-856b-49b0-a3db-790b31f15aac",
   "metadata": {},
   "source": [
    "## 2. Machine Learning Models"
   ]
  },
  {
   "cell_type": "markdown",
   "id": "44c22dd7-a3ce-48d0-9b43-766728cc98f6",
   "metadata": {},
   "source": [
    "- ### Regression Models"
   ]
  },
  {
   "cell_type": "code",
   "execution_count": null,
   "id": "d2d0b280-9d6e-47ec-bda3-476bdafdd1c0",
   "metadata": {},
   "outputs": [],
   "source": [
    "from sklearn.linear_model import LinearRegression, Ridge, Lasso\n",
    "from sklearn.tree import DecisionTreeRegressor\n",
    "from sklearn.ensemble import RandomForestRegressor, GradientBoostingRegressor\n",
    "from sklearn.svm import SVR"
   ]
  },
  {
   "cell_type": "markdown",
   "id": "3552a0d8-f3aa-4ab2-8389-c1be8a1b024a",
   "metadata": {},
   "source": [
    "- #### Classification Models"
   ]
  },
  {
   "cell_type": "code",
   "execution_count": null,
   "id": "cfb54c6d-ea80-4773-a480-816a472246d7",
   "metadata": {},
   "outputs": [],
   "source": [
    "from sklearn.linear_model import LogisticRegression\n",
    "from sklearn.tree import DecisionTreeClassifier\n",
    "from sklearn.ensemble import RandomForestClassifier, GradientBoostingClassifier\n",
    "from sklearn.svm import SVC\n",
    "from sklearn.neighbors import KNeighborsClassifier\n",
    "from sklearn.naive_bayes import GaussianNB"
   ]
  },
  {
   "cell_type": "markdown",
   "id": "a78e1749-859f-4aa6-8db5-3392cde9a2e4",
   "metadata": {},
   "source": [
    "## 3. Model Evaluation & Metrics"
   ]
  },
  {
   "cell_type": "code",
   "execution_count": null,
   "id": "ecd84e35-e53f-4642-8f5a-7cc18729301d",
   "metadata": {},
   "outputs": [],
   "source": [
    "from sklearn.metrics import accuracy_score, precision_score, recall_score, f1_score\n",
    "from sklearn.metrics import confusion_matrix, classification_report\n",
    "from sklearn.metrics import mean_squared_error, mean_absolute_error, r2_score"
   ]
  },
  {
   "cell_type": "markdown",
   "id": "14120b1d-c1c3-4ff6-b1af-375764330c9c",
   "metadata": {},
   "source": [
    "## 4. Hyperparameter Tuning"
   ]
  },
  {
   "cell_type": "code",
   "execution_count": null,
   "id": "a378dc8e-464f-460f-a076-71e796719d6c",
   "metadata": {},
   "outputs": [],
   "source": [
    "from sklearn.model_selection import GridSearchCV, RandomizedSearchCV"
   ]
  },
  {
   "cell_type": "markdown",
   "id": "413d690e-dfbf-4eeb-b476-603c13f32397",
   "metadata": {},
   "source": [
    "- ### 5. Feature Selection"
   ]
  },
  {
   "cell_type": "code",
   "execution_count": null,
   "id": "a0ac6582-359a-4400-98a1-898d5562a087",
   "metadata": {},
   "outputs": [],
   "source": [
    "from sklearn.feature_selection import SelectKBest, f_classif, f_regression"
   ]
  },
  {
   "cell_type": "markdown",
   "id": "da1edaa4-9ef6-4c4f-9bc4-433693934c5a",
   "metadata": {},
   "source": [
    "## 6. Dimensionality Reduction"
   ]
  },
  {
   "cell_type": "code",
   "execution_count": 13,
   "id": "533f4e0d-cbb5-470c-a9a4-31b36b40fba6",
   "metadata": {},
   "outputs": [],
   "source": [
    "from sklearn.decomposition import PCA"
   ]
  },
  {
   "cell_type": "markdown",
   "id": "05fd10a1-aa60-495f-86c8-0f297258a6c3",
   "metadata": {},
   "source": [
    "<div style=\"background-color: lightgreen; color: black; padding: 4px;\">\n",
    "    <h3>Advanced Imports Statements</h3>\n",
    "</div>"
   ]
  },
  {
   "cell_type": "markdown",
   "id": "a6a4f395-ffe6-46b6-93fb-0cdcd74cf1fd",
   "metadata": {},
   "source": [
    "## 1. Advanced Preprocessing & Feature Engineering"
   ]
  },
  {
   "cell_type": "code",
   "execution_count": null,
   "id": "971500a7-4ae6-4929-9551-3c00f1bf4b68",
   "metadata": {},
   "outputs": [],
   "source": [
    "from sklearn.preprocessing import PowerTransformer, PolynomialFeatures, KBinsDiscretizer\n",
    "from sklearn.compose import ColumnTransformer\n",
    "from sklearn.impute import KNNImputer\n",
    "from sklearn.pipeline import FeatureUnion"
   ]
  },
  {
   "cell_type": "markdown",
   "id": "be82a0c6-9885-4a28-9b74-ee9840ae5379",
   "metadata": {},
   "source": [
    "## 2. Advanced Model Selection & Validation"
   ]
  },
  {
   "cell_type": "code",
   "execution_count": null,
   "id": "210d60e9-8251-4984-b6b0-568266ac0321",
   "metadata": {},
   "outputs": [],
   "source": [
    "from sklearn.model_selection import StratifiedKFold, KFold, cross_val_score, cross_validate\n",
    "from sklearn.model_selection import TimeSeriesSplit, LeaveOneOut"
   ]
  },
  {
   "cell_type": "markdown",
   "id": "a5d43227-c7ed-417e-986e-3e952d22e267",
   "metadata": {},
   "source": [
    "## 3. Advanced Supervised Learning Models"
   ]
  },
  {
   "cell_type": "markdown",
   "id": "20f7826f-21f8-472c-b42f-a52d532eda14",
   "metadata": {},
   "source": [
    "- ### Ensemble Learing"
   ]
  },
  {
   "cell_type": "code",
   "execution_count": null,
   "id": "11e8fca1-6167-48e6-9832-0f5a79f64669",
   "metadata": {},
   "outputs": [],
   "source": [
    "from sklearn.ensemble import AdaBoostClassifier, AdaBoostRegressor\n",
    "from sklearn.ensemble import BaggingClassifier, BaggingRegressor\n",
    "from sklearn.ensemble import ExtraTreesClassifier, ExtraTreesRegressor\n",
    "from sklearn.ensemble import VotingClassifier, VotingRegressor\n",
    "from sklearn.ensemble import StackingClassifier, StackingRegressor"
   ]
  },
  {
   "cell_type": "markdown",
   "id": "6837d788-bccc-496e-91d8-315ffc689bf2",
   "metadata": {},
   "source": [
    "- ### Support Vector Machines (SVR & SVC Variants)"
   ]
  },
  {
   "cell_type": "code",
   "execution_count": null,
   "id": "56dcc300-2bf8-4c58-b6d1-21e5474bc4fa",
   "metadata": {},
   "outputs": [],
   "source": [
    "from sklearn.svm import NuSVC, LinearSVC, LinearSVR, NuSVR"
   ]
  },
  {
   "cell_type": "markdown",
   "id": "01225011-1442-4be5-a3f2-7a30647aed3a",
   "metadata": {},
   "source": [
    "## 4. Semi-Supervised Learning"
   ]
  },
  {
   "cell_type": "code",
   "execution_count": null,
   "id": "4179fd23-c9ce-4fa3-bce2-56cf2ab05d12",
   "metadata": {},
   "outputs": [],
   "source": [
    "from sklearn.semi_supervised import LabelPropagation, LabelSpreading"
   ]
  },
  {
   "cell_type": "markdown",
   "id": "66ab7fab-ce34-4c50-b1c6-41f1f9550533",
   "metadata": {},
   "source": [
    "## 5. Anomaly Detection & Outlier Detection"
   ]
  },
  {
   "cell_type": "code",
   "execution_count": null,
   "id": "1d3f7715-baf8-4de1-af64-fc007bd5f552",
   "metadata": {},
   "outputs": [],
   "source": [
    "from sklearn.ensemble import IsolationForest\n",
    "from sklearn.neighbors import LocalOutlierFactor\n",
    "from sklearn.covariance import EllipticEnvelope\n",
    "from sklearn.svm import OneClassSVM"
   ]
  },
  {
   "cell_type": "markdown",
   "id": "5d4813fe-e276-40f9-b000-f51d2fa4b9e9",
   "metadata": {},
   "source": [
    "## 6. Probabilistic & Bayesian Models"
   ]
  },
  {
   "cell_type": "code",
   "execution_count": null,
   "id": "7a80a7cc-2049-4947-a87a-275b13865874",
   "metadata": {},
   "outputs": [],
   "source": [
    "from sklearn.naive_bayes import BernoulliNB, MultinomialNB"
   ]
  },
  {
   "cell_type": "markdown",
   "id": "3bf5cf43-af5a-4fdd-8a0b-731e7f363ba8",
   "metadata": {},
   "source": [
    "## 7. Feature Selection & Dimensionality Reduction"
   ]
  },
  {
   "cell_type": "code",
   "execution_count": null,
   "id": "61634636-7c2f-4c97-9cd6-6e5618b347cf",
   "metadata": {},
   "outputs": [],
   "source": [
    "from sklearn.feature_selection import RFE, RFECV, SelectFromModel\n",
    "from sklearn.manifold import TSNE, Isomap, MDS, LocallyLinearEmbedding"
   ]
  },
  {
   "cell_type": "markdown",
   "id": "39094cbd-1c0a-4e72-8521-fee7b4f26443",
   "metadata": {},
   "source": [
    "## 8. Hyperparameter Tuning & Optimization"
   ]
  },
  {
   "cell_type": "code",
   "execution_count": null,
   "id": "188540e7-7987-4f97-abc3-94545fd50366",
   "metadata": {},
   "outputs": [],
   "source": [
    "from sklearn.model_selection import HalvingGridSearchCV, HalvingRandomSearchCV\n"
   ]
  },
  {
   "cell_type": "markdown",
   "id": "c9dad5f7-011e-43ba-b167-5763433e548a",
   "metadata": {},
   "source": [
    "## 9. Clustering & Unsupervised Learning"
   ]
  },
  {
   "cell_type": "code",
   "execution_count": null,
   "id": "da1f54a8-f6e5-490a-b5e0-886b1962816b",
   "metadata": {},
   "outputs": [],
   "source": [
    "from sklearn.cluster import KMeans, DBSCAN, AgglomerativeClustering, SpectralClustering, Birch"
   ]
  },
  {
   "cell_type": "markdown",
   "id": "58c80b46-9ca2-4bb5-aeb3-b1c81ae435b0",
   "metadata": {},
   "source": [
    "## 10. Neural Networks (MLP - Multi-layer Perceptron)"
   ]
  },
  {
   "cell_type": "code",
   "execution_count": null,
   "id": "2dfa9051-4de8-4601-ba63-a151959bb89a",
   "metadata": {},
   "outputs": [],
   "source": [
    "from sklearn.neural_network import MLPClassifier, MLPRegressor"
   ]
  },
  {
   "cell_type": "markdown",
   "id": "99ad22f3-a753-4141-b767-2cca3277ddc5",
   "metadata": {},
   "source": [
    "<div style=\"\n",
    "    position: fixed; \n",
    "    bottom: 10px; \n",
    "    left: 10px;  /* Moved to the left */\n",
    "    width: 200px; \n",
    "    background-color: #4CAF50; \n",
    "    padding: 10px; \n",
    "    text-align: center; \n",
    "    color: white; \n",
    "    font-size: 14px; \n",
    "    font-family: 'Arial', sans-serif; \n",
    "    border-radius: 10px;\n",
    "    box-shadow: 2px 2px 5px rgba(0, 0, 0, 0.2);\n",
    "\">\n",
    "    <p style=\"margin: 5px 0;\">📌 Created by: <b>Neel Adalja</b></p>\n",
    "    <p style=\"margin: 5px 0;\">📅 Date: <b>Feb 2025</b></p>\n",
    "</div>\n"
   ]
  }
 ],
 "metadata": {
  "kernelspec": {
   "display_name": "python(jupenv)",
   "language": "python",
   "name": "jupenv"
  },
  "language_info": {
   "codemirror_mode": {
    "name": "ipython",
    "version": 3
   },
   "file_extension": ".py",
   "mimetype": "text/x-python",
   "name": "python",
   "nbconvert_exporter": "python",
   "pygments_lexer": "ipython3",
   "version": "3.12.3"
  }
 },
 "nbformat": 4,
 "nbformat_minor": 5
}
